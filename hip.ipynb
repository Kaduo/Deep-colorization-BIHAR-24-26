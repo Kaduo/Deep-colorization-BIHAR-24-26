{
 "cells": [
  {
   "cell_type": "code",
   "execution_count": 8,
   "metadata": {},
   "outputs": [],
   "source": [
    "import lib\n",
    "import numpy as np\n",
    "from itertools import product\n",
    "import matplotlib.pyplot as plt\n",
    "import skimage"
   ]
  },
  {
   "cell_type": "code",
   "execution_count": 2,
   "metadata": {},
   "outputs": [],
   "source": [
    "labelizer = lib.Labelizer()"
   ]
  },
  {
   "cell_type": "code",
   "execution_count": 3,
   "metadata": {},
   "outputs": [
    {
     "name": "stdout",
     "output_type": "stream",
     "text": [
      "Found 33062 files.\n",
      "Using 26450 files for training.\n",
      "Using 6612 files for validation.\n"
     ]
    },
    {
     "name": "stderr",
     "output_type": "stream",
     "text": [
      "2024-11-27 14:35:53.736347: E external/local_xla/xla/stream_executor/cuda/cuda_driver.cc:152] failed call to cuInit: INTERNAL: CUDA error: Failed call to cuInit: UNKNOWN ERROR (303)\n"
     ]
    },
    {
     "data": {
      "text/plain": [
       "94"
      ]
     },
     "execution_count": 3,
     "metadata": {},
     "output_type": "execute_result"
    }
   ],
   "source": [
    "train, test = lib.load_base_datasets()\n",
    "train = lib.rgb2lab_dataset(train)\n",
    "train = lib.split_l_and_ab_dataset(train)\n",
    "train = lib.quantize_dataset(train)\n",
    "train = labelizer.label_dataset(train)\n",
    "next(iter(train))[1]\n",
    "\n",
    "labelizer.last_label"
   ]
  },
  {
   "cell_type": "code",
   "execution_count": 4,
   "metadata": {},
   "outputs": [
    {
     "data": {
      "text/plain": [
       "94"
      ]
     },
     "execution_count": 4,
     "metadata": {},
     "output_type": "execute_result"
    }
   ],
   "source": [
    "test = lib.rgb2lab_dataset(test)\n",
    "test = lib.split_l_and_ab_dataset(test)\n",
    "test = lib.quantize_dataset(test)\n",
    "test = labelizer.label_dataset(test)\n",
    "\n",
    "labelizer.last_label\n"
   ]
  },
  {
   "cell_type": "code",
   "execution_count": null,
   "metadata": {},
   "outputs": [],
   "source": [
    "abs = np.array([[labelizer.ab_pixel_to_label(np.array([(a//10)*10 + 5, (b//10)*10 + 5]), add=False) for b in range(-128, 128)] for a in range(-128,128)])"
   ]
  },
  {
   "cell_type": "code",
   "execution_count": 36,
   "metadata": {},
   "outputs": [],
   "source": [
    "rainbow_abs = [[skimage.color.lab2rgb(np.array([[[50., float((a//10)*10 + 5), float((b//10)*10 + 5)]]]))[0,0] if labelizer.ab_pixel_to_label(np.array([(a//10)*10 + 5, (b//10)*10 + 5]), add=False) != -1 else np.array([0, 0, 0]) for b in range(-128,128)] for a in range(-128,128)]"
   ]
  },
  {
   "cell_type": "code",
   "execution_count": 37,
   "metadata": {},
   "outputs": [
    {
     "data": {
      "text/plain": [
       "<matplotlib.image.AxesImage at 0x7af68c35a390>"
      ]
     },
     "execution_count": 37,
     "metadata": {},
     "output_type": "execute_result"
    },
    {
     "data": {
      "image/png": "[encoded data removed]",
      "text/plain": [
       "<Figure size 640x480 with 1 Axes>"
      ]
     },
     "metadata": {},
     "output_type": "display_data"
    }
   ],
   "source": [
    "plt.imshow(rainbow_abs)"
   ]
  }
 ],
 "metadata": {
  "kernelspec": {
   "display_name": ".venv",
   "language": "python",
   "name": "python3"
  },
  "language_info": {
   "codemirror_mode": {
    "name": "ipython",
    "version": 3
   },
   "file_extension": ".py",
   "mimetype": "text/x-python",
   "name": "python",
   "nbconvert_exporter": "python",
   "pygments_lexer": "ipython3",
   "version": "3.12.7"
  }
 },
 "nbformat": 4,
 "nbformat_minor": 2
}
