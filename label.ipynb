{
 "cells": [
  {
   "cell_type": "code",
   "execution_count": 2,
   "metadata": {},
   "outputs": [
    {
     "name": "stderr",
     "output_type": "stream",
     "text": [
      "2024-11-28 13:54:28.268788: I tensorflow/core/util/port.cc:153] oneDNN custom operations are on. You may see slightly different numerical results due to floating-point round-off errors from different computation orders. To turn them off, set the environment variable `TF_ENABLE_ONEDNN_OPTS=0`.\n",
      "2024-11-28 13:54:28.269268: I external/local_xla/xla/tsl/cuda/cudart_stub.cc:32] Could not find cuda drivers on your machine, GPU will not be used.\n",
      "2024-11-28 13:54:28.271706: I external/local_xla/xla/tsl/cuda/cudart_stub.cc:32] Could not find cuda drivers on your machine, GPU will not be used.\n",
      "2024-11-28 13:54:28.279645: E external/local_xla/xla/stream_executor/cuda/cuda_fft.cc:477] Unable to register cuFFT factory: Attempting to register factory for plugin cuFFT when one has already been registered\n",
      "WARNING: All log messages before absl::InitializeLog() is called are written to STDERR\n",
      "E0000 00:00:1732798468.293089   28175 cuda_dnn.cc:8310] Unable to register cuDNN factory: Attempting to register factory for plugin cuDNN when one has already been registered\n",
      "E0000 00:00:1732798468.296959   28175 cuda_blas.cc:1418] Unable to register cuBLAS factory: Attempting to register factory for plugin cuBLAS when one has already been registered\n",
      "2024-11-28 13:54:28.310244: I tensorflow/core/platform/cpu_feature_guard.cc:210] This TensorFlow binary is optimized to use available CPU instructions in performance-critical operations.\n",
      "To enable the following instructions: AVX2 AVX512F AVX512_VNNI FMA, in other operations, rebuild TensorFlow with the appropriate compiler flags.\n"
     ]
    }
   ],
   "source": [
    "import tensorflow as tf\n",
    "import skimage\n",
    "import numpy as np"
   ]
  },
  {
   "cell_type": "code",
   "execution_count": null,
   "metadata": {},
   "outputs": [],
   "source": [
    "ab_min = -128\n",
    "ab_max = 128\n",
    "ab_range = ab_max - ab_min\n",
    "ab_shift = max(abs(ab_min), 0)\n",
    "\n",
    "\n",
    "def ab_tensor_to_label(ab_tensor, bin_size=10):\n",
    "    a = ab_tensor[:,:,:,0]\n",
    "    b = ab_tensor[:,:,:,1]\n",
    "\n",
    "    # Translation pour avoir des valeurs positives\n",
    "    a += ab_shift\n",
    "    b += ab_shift\n",
    "\n",
    "    # Discrétisation\n",
    "    a = a//bin_size\n",
    "    b = b//bin_size\n",
    "\n",
    "    # Encodage en base ab_range//bin_size\n",
    "    base = ab_range//bin_size\n",
    "    return a*base + b\n",
    "\n",
    "def label_tensor_to_ab(label_tensor, bin_size=10):\n",
    "    base = ab_range//bin_size\n",
    "    a = (label_tensor//base)*bin_size + bin_size//2 - ab_shift\n",
    "    b = (label_tensor % base)*bin_size + bin_size//2 - ab_shift\n",
    "    return tf.stack([a, b], axis=2)"
   ]
  },
  {
   "cell_type": "code",
   "execution_count": null,
   "metadata": {},
   "outputs": [],
   "source": [
    "eddie = skimage.io.imread(\"eddie.jpg\")"
   ]
  }
 ],
 "metadata": {
  "kernelspec": {
   "display_name": ".venv",
   "language": "python",
   "name": "python3"
  },
  "language_info": {
   "codemirror_mode": {
    "name": "ipython",
    "version": 3
   },
   "file_extension": ".py",
   "mimetype": "text/x-python",
   "name": "python",
   "nbconvert_exporter": "python",
   "pygments_lexer": "ipython3",
   "version": "3.12.7"
  }
 },
 "nbformat": 4,
 "nbformat_minor": 2
}
