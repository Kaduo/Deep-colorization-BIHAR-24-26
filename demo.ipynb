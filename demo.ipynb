{
 "cells": [
  {
   "cell_type": "code",
   "execution_count": 39,
   "metadata": {},
   "outputs": [],
   "source": [
    "import matplotlib.pyplot as plt # pip install matplotlib\n",
    "import skimage # pip install scikit-image\n",
    "import numpy as np"
   ]
  },
  {
   "cell_type": "code",
   "execution_count": 40,
   "metadata": {},
   "outputs": [],
   "source": [
    "img = skimage.io.imread(\"eddie.jpg\")\n",
    "plt.imshow(img)"
   ]
  },
  {
   "cell_type": "code",
   "execution_count": 41,
   "metadata": {},
   "outputs": [],
   "source": [
    "plt.imshow(img[:, 60:90, 1], cmap=\"gray\")"
   ]
  },
  {
   "cell_type": "code",
   "execution_count": 42,
   "metadata": {},
   "outputs": [],
   "source": [
    "img_red = np.reshape(img[:, :, 0], (img.shape[0],img.shape[1],1))"
   ]
  },
  {
   "cell_type": "code",
   "execution_count": 49,
   "metadata": {},
   "outputs": [],
   "source": [
    "img_red_rgb = np.concat([img_red, np.zeros((img_red.shape[0], img_red.shape[1], 2))], axis=2)\n",
    "# img_red_rgb\n",
    "plt.imshow(img_red_rgb/255)"
   ]
  },
  {
   "cell_type": "code",
   "execution_count": 61,
   "metadata": {},
   "outputs": [],
   "source": [
    "img_green = np.reshape(img[:,:,1], (img.shape[0], img.shape[1], 1))\n",
    "z = np.zeros((img.shape[0], img.shape[1], 1))\n",
    "\n",
    "plt.imshow(np.concat([z, img_green, z], axis=2)/255)"
   ]
  },
  {
   "cell_type": "code",
   "execution_count": 65,
   "metadata": {},
   "outputs": [],
   "source": [
    "img_blue = np.reshape(img[:,:,2], (img.shape[0], img.shape[1], 1))\n",
    "z = np.zeros((img.shape[0], img.shape[1], 1))\n",
    "\n",
    "plt.imshow(np.concat([z, z, img_blue], axis=2)/255)"
   ]
  },
  {
   "cell_type": "code",
   "execution_count": 75,
   "metadata": {},
   "outputs": [],
   "source": [
    "img_shuffle = np.transpose(np.stack([img[:,:,2], img[:,:,0], img[:,:,1]]), (1, 2, 0))\n",
    "img_shuffle.shape\n",
    "plt.imshow(img_shuffle)"
   ]
  },
  {
   "cell_type": "code",
   "execution_count": 44,
   "metadata": {},
   "outputs": [],
   "source": [
    "img_resized = skimage.transform.resize(img, (128, 128))\n",
    "plt.imshow(img_resized)"
   ]
  },
  {
   "cell_type": "code",
   "execution_count": 87,
   "metadata": {},
   "outputs": [],
   "source": [
    "img_lab = skimage.color.rgb2lab(img_resized)\n",
    "L = img_lab[:,:,0]\n",
    "plt.imshow(img_lab[:,:,0], cmap=\"gray\")"
   ]
  },
  {
   "cell_type": "code",
   "execution_count": 86,
   "metadata": {},
   "outputs": [],
   "source": [
    "a_predict = img_lab[:,:,1]\n",
    "b_predict = img_lab[:,:,2]"
   ]
  },
  {
   "cell_type": "code",
   "execution_count": 90,
   "metadata": {},
   "outputs": [],
   "source": [
    "result = skimage.color.lab2rgb(np.stack([L, a_predict, b_predict], axis=2))\n",
    "plt.imshow(result)"
   ]
  }
 ],
 "metadata": {
  "kernelspec": {
   "display_name": ".venv",
   "language": "python",
   "name": "python3"
  },
  "language_info": {
   "codemirror_mode": {
    "name": "ipython",
    "version": 3
   },
   "file_extension": ".py",
   "mimetype": "text/x-python",
   "name": "python",
   "nbconvert_exporter": "python",
   "pygments_lexer": "ipython3",
   "version": "3.12.7"
  }
 },
 "nbformat": 4,
 "nbformat_minor": 2
}
